{
 "cells": [
  {
   "cell_type": "markdown",
   "id": "0689733d",
   "metadata": {},
   "source": [
    "# Retrieval\n",
    "\n",
    "Retrieval is the centerpiece of our retrieval augmented generation (RAG) flow. \n",
    "\n",
    "Let's get our vectorDB from before."
   ]
  },
  {
   "cell_type": "markdown",
   "id": "ed2569c6",
   "metadata": {},
   "source": [
    "## Vectorstore retrieval\n"
   ]
  },
  {
   "cell_type": "code",
   "execution_count": 1,
   "id": "51b15e5c-9b92-4d40-a149-b56335d330d9",
   "metadata": {
    "tags": []
   },
   "outputs": [],
   "source": [
    "import os\n",
    "import openai\n",
    "import sys\n",
    "sys.path.append('../..')\n",
    "\n",
    "from dotenv import load_dotenv, find_dotenv\n",
    "_ = load_dotenv(find_dotenv()) # read local .env file\n",
    "\n",
    "openai.api_key  = os.environ['OPENAI_API_KEY']"
   ]
  },
  {
   "cell_type": "code",
   "execution_count": 2,
   "id": "c18f8a7b-62af-403e-9877-18d1c2265b4f",
   "metadata": {
    "tags": []
   },
   "outputs": [],
   "source": [
    "#!pip install lark"
   ]
  },
  {
   "cell_type": "markdown",
   "id": "c2d552e1",
   "metadata": {},
   "source": [
    "### Similarity Search"
   ]
  },
  {
   "cell_type": "code",
   "execution_count": 3,
   "id": "fe368042",
   "metadata": {
    "tags": []
   },
   "outputs": [],
   "source": [
    "from langchain.vectorstores import Chroma\n",
    "from langchain_openai import OpenAIEmbeddings\n",
    "persist_directory = 'docs/chroma/'"
   ]
  },
  {
   "cell_type": "code",
   "execution_count": 4,
   "id": "a0189dc5",
   "metadata": {
    "tags": []
   },
   "outputs": [],
   "source": [
    "embedding = OpenAIEmbeddings()\n",
    "vectordb = Chroma(\n",
    "    persist_directory=persist_directory,\n",
    "    embedding_function=embedding\n",
    ")"
   ]
  },
  {
   "cell_type": "code",
   "execution_count": 5,
   "id": "3659e0f7",
   "metadata": {
    "tags": []
   },
   "outputs": [
    {
     "name": "stdout",
     "output_type": "stream",
     "text": [
      "150\n"
     ]
    }
   ],
   "source": [
    "print(vectordb._collection.count())"
   ]
  },
  {
   "cell_type": "code",
   "execution_count": 6,
   "id": "a807c758",
   "metadata": {
    "tags": []
   },
   "outputs": [],
   "source": [
    "texts = [\n",
    "    \"\"\"The Amanita phalloides has a large and imposing epigeous (aboveground) fruiting body (basidiocarp).\"\"\",\n",
    "    \"\"\"A mushroom with a large fruiting body is the Amanita phalloides. Some varieties are all-white.\"\"\",\n",
    "    \"\"\"A. phalloides, a.k.a Death Cap, is one of the most poisonous of all known mushrooms.\"\"\",\n",
    "]"
   ]
  },
  {
   "cell_type": "code",
   "execution_count": 7,
   "id": "715d54f3",
   "metadata": {
    "tags": []
   },
   "outputs": [],
   "source": [
    "smalldb = Chroma.from_texts(texts, embedding=embedding)"
   ]
  },
  {
   "cell_type": "code",
   "execution_count": 8,
   "id": "9a37b5a5",
   "metadata": {
    "tags": []
   },
   "outputs": [],
   "source": [
    "question = \"Tell me about all-white mushrooms with large fruiting bodies\""
   ]
  },
  {
   "cell_type": "code",
   "execution_count": 9,
   "id": "24e3b025",
   "metadata": {
    "tags": []
   },
   "outputs": [
    {
     "data": {
      "text/plain": [
       "[Document(page_content='A mushroom with a large fruiting body is the Amanita phalloides. Some varieties are all-white.'),\n",
       " Document(page_content='The Amanita phalloides has a large and imposing epigeous (aboveground) fruiting body (basidiocarp).')]"
      ]
     },
     "execution_count": 9,
     "metadata": {},
     "output_type": "execute_result"
    }
   ],
   "source": [
    "smalldb.similarity_search(question, k=2)"
   ]
  },
  {
   "cell_type": "code",
   "execution_count": 10,
   "id": "4daa6c0d",
   "metadata": {
    "tags": []
   },
   "outputs": [
    {
     "data": {
      "text/plain": [
       "[Document(page_content='A mushroom with a large fruiting body is the Amanita phalloides. Some varieties are all-white.'),\n",
       " Document(page_content='A. phalloides, a.k.a Death Cap, is one of the most poisonous of all known mushrooms.')]"
      ]
     },
     "execution_count": 10,
     "metadata": {},
     "output_type": "execute_result"
    }
   ],
   "source": [
    "smalldb.max_marginal_relevance_search(question,k=2, fetch_k=3)"
   ]
  },
  {
   "cell_type": "markdown",
   "id": "5a29e8c9",
   "metadata": {},
   "source": [
    "### Addressing Diversity: Maximum marginal relevance\n",
    "\n",
    "Last class we introduced one problem: how to enforce diversity in the search results.\n",
    " \n",
    "`Maximum marginal relevance` strives to achieve both relevance to the query *and diversity* among the results."
   ]
  },
  {
   "cell_type": "code",
   "execution_count": 11,
   "id": "9bb2c0a9",
   "metadata": {
    "tags": []
   },
   "outputs": [],
   "source": [
    "question = \"what did they say about dress code?\"\n",
    "docs_ss = vectordb.similarity_search(question,k=3)"
   ]
  },
  {
   "cell_type": "code",
   "execution_count": 12,
   "id": "f07f8793",
   "metadata": {
    "tags": []
   },
   "outputs": [
    {
     "data": {
      "text/plain": [
       "'TIFF V olunteer Dress Codes \\n Volunteer positions will outline specific dress code requirements in addition to wearing your V olunteer \\n T-shirt and photo I.D. Accreditation. Requirements are listed in the Description link of all shifts on the \\n Volunteer  Hub. The three V olunteer dress codes are: \\n 1.  Volunteer T -shirt, Photo I.D. Accreditation + Smart Casual \\n The smart-casual dress code ensures that your clothes are comfortable while still neat, clean and \\n suited for a professional environment. Follow these tips to make sure you’re adhering to our \\n smart-casual dress code: \\n ●  Jeans/pants may be worn, but should be free of large rips and frays. \\n ●  Dresses, skirts and shorts of any kind may be worn, but must be knee-length. \\n ●  High heels, including open-toe shoes, may be worn. \\n ●  Running shoes may be worn, as long as the laces are tidy . \\n ●  No midrif f-baring or backless '"
      ]
     },
     "execution_count": 12,
     "metadata": {},
     "output_type": "execute_result"
    }
   ],
   "source": [
    "docs_ss[0].page_content[:900]"
   ]
  },
  {
   "cell_type": "code",
   "execution_count": 13,
   "id": "e9f7e165",
   "metadata": {
    "tags": []
   },
   "outputs": [
    {
     "data": {
      "text/plain": [
       "'Bottoms and shoes worn must be black. \\n ●  Black dress pants (shorts may not be worn) \\n ●  Black dresses or skirts (below mid-thigh) \\n ●  Black shoes (clean, black sneakers may be worn, but sandals may not) \\n *Please note: There may be some volunteer roles that don’ t require you to wear your 2023 \\n Volunteer T -shirt. This will be communicated ahead of time. (examples include smart-casual dress \\n code for in-of fice shifts, wearing all black for special events, etc.) \\n Personal Appearance \\n TIFF celebrates the individuality and diversity of our staf f and V olunteers. Where not deemed an \\n occupational safety hazard, individual choices about the following are at V olunteers’ discretion: \\n ●  Hairstyles, haircuts or hair colour \\n ●  Tattoos, body art, body piercings \\n ●  Religious and culture-specific attire or jewelry \\n 16'"
      ]
     },
     "execution_count": 13,
     "metadata": {},
     "output_type": "execute_result"
    }
   ],
   "source": [
    "docs_ss[1].page_content"
   ]
  },
  {
   "cell_type": "markdown",
   "id": "4c4ca1b6",
   "metadata": {},
   "source": [
    "Note the difference in results with `MMR`."
   ]
  },
  {
   "cell_type": "code",
   "execution_count": 14,
   "id": "222234c5",
   "metadata": {
    "tags": []
   },
   "outputs": [],
   "source": [
    "docs_mmr = vectordb.max_marginal_relevance_search(question,k=3)"
   ]
  },
  {
   "cell_type": "code",
   "execution_count": 15,
   "id": "93b20226",
   "metadata": {
    "tags": []
   },
   "outputs": [
    {
     "data": {
      "text/plain": [
       "'TIFF V olunteer Dress Codes \\n Volunteer positions will outline specific dress code requirements in addition to wearing your V olunteer \\n T-shirt and photo I.D. Accreditation. Requirements are listed in the Description link of all shifts on the \\n Volunteer  Hub. The three V olunteer dress codes are: \\n 1.  Volunteer T -shirt, Photo I.D. Accreditation + Smart Casual \\n The smart-casual dress code ensures that your clothes are comfortable while still neat, clean and \\n suited for a professional environment. Follow these tips to make sure you’re adhering to our \\n smart-casual dress code: \\n ●  Jeans/pants may be worn, but should be free of large rips and frays. \\n ●  Dresses, skirts and shorts of any kind may be worn, but must be knee-length. \\n ●  High heels, including open-toe shoes, may be worn. \\n ●  Running shoes may be worn, as long as the laces are tidy . \\n ●  No midrif f-baring or backless shirts. \\n 2.  Volunteer T -shirt, Photo I.D. Accreditation + Business Casual \\n Business casual attire is required for some V olunteer positions. The following are considered \\n appropriate business-casual clothes: \\n ●  Dress pants (shorts may not be worn) \\n ●  Dresses or skirts (below mid-thigh) \\n ●  Dress shoes (sandals and sneakers may not be worn) \\n 3.  Volunteer T -shirt, Photo I.D. Accreditation, Black Bottoms + Black Shoes \\n Bottoms and shoes worn must be black. \\n ●  Black dress pants (shorts may not be worn) \\n ●  Black dresses or skirts (below mid-thigh)'"
      ]
     },
     "execution_count": 15,
     "metadata": {},
     "output_type": "execute_result"
    }
   ],
   "source": [
    "docs_mmr[0].page_content"
   ]
  },
  {
   "cell_type": "code",
   "execution_count": 16,
   "id": "17d39762",
   "metadata": {
    "tags": []
   },
   "outputs": [
    {
     "data": {
      "text/plain": [
       "'0'"
      ]
     },
     "execution_count": 16,
     "metadata": {},
     "output_type": "execute_result"
    }
   ],
   "source": [
    "docs_mmr[1].page_content"
   ]
  },
  {
   "cell_type": "markdown",
   "id": "b2b909bc",
   "metadata": {},
   "source": [
    "### Addressing Specificity: working with metadata\n",
    "\n",
    "In last lecture, we showed that a question about the third lecture can include results from other lectures as well.\n",
    "\n",
    "To address this, many vectorstores support operations on `metadata`.\n",
    "\n",
    "`metadata` provides context for each embedded chunk."
   ]
  },
  {
   "cell_type": "code",
   "execution_count": 17,
   "id": "3c1a60b2",
   "metadata": {
    "tags": []
   },
   "outputs": [],
   "source": [
    "question = \"what did they say about dress code on page 16?\""
   ]
  },
  {
   "cell_type": "code",
   "execution_count": 18,
   "id": "a8612840",
   "metadata": {
    "scrolled": true,
    "tags": []
   },
   "outputs": [],
   "source": [
    "docs = vectordb.similarity_search(\n",
    "    question,\n",
    "    k=3,\n",
    "    filter={\"page\":16}\n",
    ")"
   ]
  },
  {
   "cell_type": "code",
   "execution_count": 19,
   "id": "97031876",
   "metadata": {
    "tags": []
   },
   "outputs": [
    {
     "name": "stdout",
     "output_type": "stream",
     "text": [
      "{'page': 16, 'source': 'saved/2023_Festival_Volunteer_Orientation_Manual.pdf'}\n",
      "{'page': 16, 'source': 'saved/2023_Festival_Volunteer_Orientation_Manual.pdf'}\n"
     ]
    }
   ],
   "source": [
    "for d in docs:\n",
    "    print(d.metadata)"
   ]
  },
  {
   "cell_type": "markdown",
   "id": "ccc2d784",
   "metadata": {},
   "source": [
    "### Addressing Specificity: working with metadata using self-query retriever\n",
    "\n",
    "But we have an interesting challenge: we often want to infer the metadata from the query itself.\n",
    "\n",
    "To address this, we can use `SelfQueryRetriever`, which uses an LLM to extract:\n",
    " \n",
    "1. The `query` string to use for vector search\n",
    "2. A metadata filter to pass in as well\n",
    "\n",
    "Most vector databases support metadata filters, so this doesn't require any new databases or indexes."
   ]
  },
  {
   "cell_type": "code",
   "execution_count": 20,
   "id": "b1d06084",
   "metadata": {
    "tags": []
   },
   "outputs": [],
   "source": [
    "from langchain_openai import OpenAI\n",
    "from langchain.retrievers.self_query.base import SelfQueryRetriever\n",
    "from langchain.chains.query_constructor.base import AttributeInfo"
   ]
  },
  {
   "cell_type": "code",
   "execution_count": 21,
   "id": "0aa5e698",
   "metadata": {
    "tags": []
   },
   "outputs": [],
   "source": [
    "metadata_field_info = [\n",
    "#     AttributeInfo(\n",
    "#         name=\"source\",\n",
    "#         description=\"The lecture the chunk is from, should be one of `docs/cs229_lectures/MachineLearning-Lecture01.pdf`, `docs/cs229_lectures/MachineLearning-Lecture02.pdf`, or `docs/cs229_lectures/MachineLearning-Lecture03.pdf`\",\n",
    "#         type=\"string\",\n",
    "#     ),\n",
    "    AttributeInfo(\n",
    "        name=\"page\",\n",
    "        description=\"The page from the manual\",\n",
    "        type=\"integer\",\n",
    "    ),\n",
    "]"
   ]
  },
  {
   "cell_type": "markdown",
   "id": "0e143f05-908f-463d-a9de-408526c3947f",
   "metadata": {
    "tags": []
   },
   "source": [
    "**Note:** The default model for `OpenAI` (\"from langchain.llms import OpenAI\") is `text-davinci-003`. Due to the deprication of OpenAI's model `text-davinci-003` on 4 January 2024, you'll be using OpenAI's recommended replacement model `gpt-3.5-turbo-instruct` instead."
   ]
  },
  {
   "cell_type": "code",
   "execution_count": 22,
   "id": "fc9de693-7bdb-463e-b124-9f72163b0bd8",
   "metadata": {
    "tags": []
   },
   "outputs": [],
   "source": [
    "document_content_description = \"Training manual\"\n",
    "llm = OpenAI(model='gpt-3.5-turbo-instruct', temperature=0)\n",
    "retriever = SelfQueryRetriever.from_llm(\n",
    "    llm,\n",
    "    vectordb,\n",
    "    document_content_description,\n",
    "    metadata_field_info,\n",
    "    verbose=True\n",
    ")"
   ]
  },
  {
   "cell_type": "code",
   "execution_count": 23,
   "id": "79d781b9",
   "metadata": {
    "tags": []
   },
   "outputs": [],
   "source": [
    "question = \"what did they say about dress code on page 16?\""
   ]
  },
  {
   "cell_type": "markdown",
   "id": "c51778b0-1fcd-40a4-bd6b-0f13fec8acb1",
   "metadata": {},
   "source": [
    "**You will receive a warning** about predict_and_parse being deprecated the first time you executing the next line. This can be safely ignored."
   ]
  },
  {
   "cell_type": "code",
   "execution_count": 24,
   "id": "1d4f9f7d",
   "metadata": {
    "tags": []
   },
   "outputs": [],
   "source": [
    "docs = retriever.get_relevant_documents(question)"
   ]
  },
  {
   "cell_type": "code",
   "execution_count": 25,
   "id": "db04374e",
   "metadata": {
    "tags": []
   },
   "outputs": [
    {
     "name": "stdout",
     "output_type": "stream",
     "text": [
      "{'page': 16, 'source': 'saved/2023_Festival_Volunteer_Orientation_Manual.pdf'}\n",
      "{'page': 16, 'source': 'saved/2023_Festival_Volunteer_Orientation_Manual.pdf'}\n"
     ]
    }
   ],
   "source": [
    "for d in docs:\n",
    "    print(d.metadata)"
   ]
  },
  {
   "cell_type": "markdown",
   "id": "297b8168",
   "metadata": {},
   "source": [
    "### Additional tricks: compression\n",
    "\n",
    "Another approach for improving the quality of retrieved docs is compression.\n",
    "\n",
    "Information most relevant to a query may be buried in a document with a lot of irrelevant text. \n",
    "\n",
    "Passing that full document through your application can lead to more expensive LLM calls and poorer responses.\n",
    "\n",
    "Contextual compression is meant to fix this. "
   ]
  },
  {
   "cell_type": "code",
   "execution_count": 26,
   "id": "a060cf74",
   "metadata": {
    "tags": []
   },
   "outputs": [],
   "source": [
    "from langchain.retrievers import ContextualCompressionRetriever\n",
    "from langchain.retrievers.document_compressors import LLMChainExtractor"
   ]
  },
  {
   "cell_type": "code",
   "execution_count": 27,
   "id": "038649c8",
   "metadata": {
    "tags": []
   },
   "outputs": [],
   "source": [
    "def pretty_print_docs(docs):\n",
    "    print(f\"\\n{'-' * 100}\\n\".join([f\"Document {i+1}:\\n\\n\" + d.page_content for i, d in enumerate(docs)]))\n"
   ]
  },
  {
   "cell_type": "code",
   "execution_count": 28,
   "id": "fc686cf2",
   "metadata": {
    "tags": []
   },
   "outputs": [],
   "source": [
    "# Wrap our vectorstore\n",
    "llm = OpenAI(temperature=0)\n",
    "compressor = LLMChainExtractor.from_llm(llm)"
   ]
  },
  {
   "cell_type": "code",
   "execution_count": 29,
   "id": "82794397",
   "metadata": {
    "tags": []
   },
   "outputs": [],
   "source": [
    "compression_retriever = ContextualCompressionRetriever(\n",
    "    base_compressor=compressor,\n",
    "    base_retriever=vectordb.as_retriever()\n",
    ")"
   ]
  },
  {
   "cell_type": "code",
   "execution_count": 30,
   "id": "cde86848",
   "metadata": {
    "tags": []
   },
   "outputs": [
    {
     "name": "stderr",
     "output_type": "stream",
     "text": [
      "/opt/homebrew/Caskroom/miniforge/base/envs/langchain/lib/python3.9/site-packages/langchain/chains/llm.py:316: UserWarning: The predict_and_parse method is deprecated, instead pass an output parser directly to LLMChain.\n",
      "  warnings.warn(\n",
      "/opt/homebrew/Caskroom/miniforge/base/envs/langchain/lib/python3.9/site-packages/langchain/chains/llm.py:316: UserWarning: The predict_and_parse method is deprecated, instead pass an output parser directly to LLMChain.\n",
      "  warnings.warn(\n",
      "/opt/homebrew/Caskroom/miniforge/base/envs/langchain/lib/python3.9/site-packages/langchain/chains/llm.py:316: UserWarning: The predict_and_parse method is deprecated, instead pass an output parser directly to LLMChain.\n",
      "  warnings.warn(\n",
      "/opt/homebrew/Caskroom/miniforge/base/envs/langchain/lib/python3.9/site-packages/langchain/chains/llm.py:316: UserWarning: The predict_and_parse method is deprecated, instead pass an output parser directly to LLMChain.\n",
      "  warnings.warn(\n"
     ]
    },
    {
     "name": "stdout",
     "output_type": "stream",
     "text": [
      "Document 1:\n",
      "\n",
      "Black dress pants (shorts may not be worn) \n",
      "Black dresses or skirts (below mid-thigh) \n",
      "Black shoes (clean, black sneakers may be worn, but sandals may not)\n",
      "----------------------------------------------------------------------------------------------------\n",
      "Document 2:\n",
      "\n",
      "- Volunteer positions will outline specific dress code requirements in addition to wearing your V olunteer \n",
      " T-shirt and photo I.D. Accreditation. Requirements are listed in the Description link of all shifts on the \n",
      " Volunteer  Hub.\n",
      "- The three V olunteer dress codes are: \n",
      " 1.  Volunteer T -shirt, Photo I.D. Accreditation + Smart Casual \n",
      " The smart-casual dress code ensures that your clothes are comfortable while still neat, clean and \n",
      " suited for a professional environment. Follow these tips to make sure you’re adhering to our \n",
      " smart-casual dress code: \n",
      " ●  Jeans/pants may be worn, but should be free of large rips and frays. \n",
      " ●  Dresses, skirts and shorts of any kind may be worn, but must be knee-length. \n",
      " ●  High heels, including open-toe shoes, may be worn. \n",
      " ●  Running shoes may be worn, as long as the laces are tidy . \n",
      " ●  No midrif f-baring or backless shirts. \n",
      " 2.  Volunteer T -shirt, Photo I.D. Accreditation + Business Casual \n",
      " Business casual attire is required for some V olunteer positions. The following are considered \n",
      " appropriate business-casual clothes\n",
      "----------------------------------------------------------------------------------------------------\n",
      "Document 3:\n",
      "\n",
      "- \"DRESS CODE POLICY\"\n",
      "- \"V olunteer T -shirt and Photo I.D. Accreditation\"\n",
      "- \"2023 Festival V olunteer T -shirt and photo I.D. Accreditation\"\n",
      "- \"submit a photo of themselves online for their Accreditation\"\n",
      "- \"wear your V olunteer T-shirt and photo I.D. Accreditation whenever you are on shift\"\n",
      "- \"arrive at your scheduled shift without your V olunteer T -shirt and photo I.D. Accreditation\"\n",
      "- \"sent home without a V olunteer Reward V oucher and marked as a no-show\"\n",
      "- \"do not wear your Volunteer T -shirt when you are not on shift\"\n",
      "- \"T-shirt and Photo I.D. Accreditation Pickup\"\n",
      "- \"pickup will commence in late August\"\n",
      "- \"instructions on how to submit a photo for your I.D.\"\n"
     ]
    }
   ],
   "source": [
    "question = \"what did they say about dress code on page 16?\"\n",
    "compressed_docs = compression_retriever.get_relevant_documents(question)\n",
    "pretty_print_docs(compressed_docs)"
   ]
  },
  {
   "cell_type": "markdown",
   "id": "82c4fc4d",
   "metadata": {},
   "source": [
    "## Combining various techniques"
   ]
  },
  {
   "cell_type": "code",
   "execution_count": 31,
   "id": "161ae1ad",
   "metadata": {
    "tags": []
   },
   "outputs": [],
   "source": [
    "compression_retriever = ContextualCompressionRetriever(\n",
    "    base_compressor=compressor,\n",
    "    base_retriever=vectordb.as_retriever(search_type = \"mmr\")\n",
    ")"
   ]
  },
  {
   "cell_type": "code",
   "execution_count": 33,
   "id": "e77ccae1",
   "metadata": {
    "tags": []
   },
   "outputs": [
    {
     "name": "stderr",
     "output_type": "stream",
     "text": [
      "/opt/homebrew/Caskroom/miniforge/base/envs/langchain/lib/python3.9/site-packages/langchain/chains/llm.py:316: UserWarning: The predict_and_parse method is deprecated, instead pass an output parser directly to LLMChain.\n",
      "  warnings.warn(\n",
      "/opt/homebrew/Caskroom/miniforge/base/envs/langchain/lib/python3.9/site-packages/langchain/chains/llm.py:316: UserWarning: The predict_and_parse method is deprecated, instead pass an output parser directly to LLMChain.\n",
      "  warnings.warn(\n",
      "/opt/homebrew/Caskroom/miniforge/base/envs/langchain/lib/python3.9/site-packages/langchain/chains/llm.py:316: UserWarning: The predict_and_parse method is deprecated, instead pass an output parser directly to LLMChain.\n",
      "  warnings.warn(\n",
      "/opt/homebrew/Caskroom/miniforge/base/envs/langchain/lib/python3.9/site-packages/langchain/chains/llm.py:316: UserWarning: The predict_and_parse method is deprecated, instead pass an output parser directly to LLMChain.\n",
      "  warnings.warn(\n"
     ]
    },
    {
     "name": "stdout",
     "output_type": "stream",
     "text": [
      "Document 1:\n",
      "\n",
      "- \"All registered Festival Volunteers who have signed up for a minimum of four (4) shifts will be eligible to pick up a 2023 Festival Volunteer T-shirt and photo I.D. Accreditation.\"\n",
      "- \"To uphold our standard of professionalism and for security purposes, you must wear your Volunteer T-shirt and photo I.D. Accreditation whenever you are on shift, unless otherwise directed by your supervisor or the Volunteer Office.\"\n",
      "- \"If you arrive at your scheduled shift without your Volunteer T-shirt and photo I.D. Accreditation, you may be sent home without a Volunteer Reward Voucher and marked as a no-show.\"\n",
      "- \"T-shirt and photo I.D. Accreditation pickup will commence in late August. Volunteers will be notified of the details by email closer to the date, including instructions on how to submit a photo for your I.D.\"\n",
      "----------------------------------------------------------------------------------------------------\n",
      "Document 2:\n",
      "\n",
      "*Please note: There may be some volunteer roles that don’ t require you to wear your 2023 \n",
      " Volunteer T -shirt. This will be communicated ahead of time.\n"
     ]
    }
   ],
   "source": [
    "question = \"what did they say about volunteer t-shirts?\"\n",
    "compressed_docs = compression_retriever.get_relevant_documents(question)\n",
    "pretty_print_docs(compressed_docs)"
   ]
  },
  {
   "cell_type": "markdown",
   "id": "6c2b63e1",
   "metadata": {},
   "source": [
    "## Other types of retrieval\n",
    "\n",
    "It's worth noting that vectordb as not the only kind of tool to retrieve documents. \n",
    "\n",
    "The `LangChain` retriever abstraction includes other ways to retrieve documents, such as TF-IDF or SVM."
   ]
  },
  {
   "cell_type": "code",
   "execution_count": 34,
   "id": "83d2e808",
   "metadata": {
    "tags": []
   },
   "outputs": [],
   "source": [
    "from langchain.retrievers import SVMRetriever\n",
    "from langchain.retrievers import TFIDFRetriever\n",
    "from langchain.document_loaders import PyPDFLoader\n",
    "from langchain.text_splitter import RecursiveCharacterTextSplitter"
   ]
  },
  {
   "cell_type": "code",
   "execution_count": 35,
   "id": "bcf5b760",
   "metadata": {
    "tags": []
   },
   "outputs": [],
   "source": [
    "# Load PDF\n",
    "loader = PyPDFLoader(\"saved/2023_Festival_Volunteer_Orientation_Manual.pdf\")\n",
    "pages = loader.load()\n",
    "all_page_text=[p.page_content for p in pages]\n",
    "joined_page_text=\" \".join(all_page_text)\n",
    "\n",
    "# Split\n",
    "text_splitter = RecursiveCharacterTextSplitter(chunk_size = 1500,chunk_overlap = 150)\n",
    "splits = text_splitter.split_text(joined_page_text)"
   ]
  },
  {
   "cell_type": "code",
   "execution_count": 36,
   "id": "9bb0d781",
   "metadata": {
    "tags": []
   },
   "outputs": [],
   "source": [
    "# Retrieve\n",
    "svm_retriever = SVMRetriever.from_texts(splits,embedding)\n",
    "tfidf_retriever = TFIDFRetriever.from_texts(splits)"
   ]
  },
  {
   "cell_type": "code",
   "execution_count": 37,
   "id": "0b1cc35f",
   "metadata": {
    "tags": []
   },
   "outputs": [
    {
     "data": {
      "text/plain": [
       "Document(page_content='Deb Carpenter \\n Debbie Newell \\n Debbie Phillips \\n Debbie Randell \\n Debbie Young-Hermanns \\n Deborah Girardo \\n Deborah Massa \\n Debra Hubner \\n Diana Chorozy \\n Diane Reid \\n Diane Sugai \\n Diann Margott Santiago \\n Diem Pham \\n Dimitra Tzamtzis \\n Dimple Dhawan \\n Dinara Khalitova \\n Dionisio Neto \\n Divya Lamba \\n Donna Shoom-Kirsch \\n Dorothy De Souza \\n Eddy Woo \\n Edison Chai \\n Edmond Kwan \\n Edmund Smyk \\n Eileen Chong \\n Eimíle McLennon \\n Elizabeth Archibald \\n Elizabeth Hawtin \\n Elizabeth Poad \\n Emilia Tryon \\n Emily Li \\n Emma Wiatrzyk \\n Etienne Harrison \\n Eujin Ong \\n Eva Chan \\n Faith Horizon \\n Fanny Lui \\n Flora Sung \\n Flora Velichkova \\n Frances Scaini \\n Francine Brodeur \\n Gabriele Golz \\n Gail Mackinnon \\n Garry Meyer \\n Gayle Forler \\n George Vandebunte \\n Gina Morrison \\n Glenda Restoule \\n Gloria Chan \\n Grace Awang \\n Grace Tsang \\n Heather Ardiel \\n Heather Brown \\n Heather Kemp \\n Heather Kerr \\n Heather Wood \\n Helen Ing \\n Helen Neville \\n Helen Sellers \\n Herwin Sagastume \\n Holly Rutherford \\n Homa Bondar \\n Horace Kim \\n Ian McMaster \\n Ilona Staples \\n Ingrid Goh \\n Irene Gautreau \\n Iris Bagola \\n Iris Van Pelt \\n Isabella Salinas \\n Jack Cox \\n Jackie Conant \\n Jacqueline Saldanha \\n Jamila Diwan \\n Jan Mollenhauer  Janet Sakarya \\n Janet Schlee \\n Janinne Strain \\n Jas Seahra \\n Jason Mitchell \\n Jason Spencer \\n Javeed Patel \\n Jeanette Forbes \\n Jenn Reid \\n Jennifer Adame \\n Jennifer Bennett \\n Jennifer Dragan \\n Jennifer Ierullo \\n Jerry Finelli \\n Jessica Billinghurst \\n Jiayi Li \\n Jill Rebecca \\n Joan Barrett')"
      ]
     },
     "execution_count": 37,
     "metadata": {},
     "output_type": "execute_result"
    }
   ],
   "source": [
    "question = \"What did they say about tattoos?\"\n",
    "docs_svm=svm_retriever.get_relevant_documents(question)\n",
    "docs_svm[0]"
   ]
  },
  {
   "cell_type": "code",
   "execution_count": 38,
   "id": "2a1659c0",
   "metadata": {
    "tags": []
   },
   "outputs": [
    {
     "data": {
      "text/plain": [
       "Document(page_content='receive postings for year-round V olunteer opportunities to support our programming all year long. \\n Eligible V olunteers will receive postings for year-round opportunities as they become available, typically \\n between October and June. \\n Please note that volunteer opportunities are subject to availability and details may vary pending \\n programming changes. \\n 8   Volunteer Expectations \\n All TIFF V olunteers are expected to be... \\n INFORMED \\n You must attend any mandatory orientation/training sessions to ensure that you know what your specific \\n position entails. Y ou will be volunteering under the supervision and guidance of a staf f member or \\n Volunteer Captain who has years of experience volunteering with TIFF . Please listen carefully to what \\n they have to say . They are there to support you and help you do your best. If you have any questions, \\n please ask. \\n FRIENDL Y \\n Volunteers are representatives of TIFF and work extensively with guests, staf f and other V olunteers. W e \\n expect everyone to be polite, friendly and respectful to each other both on- and of f-duty . \\n PROFESSIONAL \\n As a TIFF representative, you must not participate in self-promotion, networking with industry \\n professionals or talent, autograph-seeking, or picture-taking while on duty or while wearing your \\n Volunteer T -shirt and/or I.D. Accreditation. TIFF has of ficial spokespeople who represent the')"
      ]
     },
     "execution_count": 38,
     "metadata": {},
     "output_type": "execute_result"
    }
   ],
   "source": [
    "question = \"what did they say about tattoos?\"\n",
    "docs_tfidf=tfidf_retriever.get_relevant_documents(question)\n",
    "docs_tfidf[0]"
   ]
  },
  {
   "cell_type": "code",
   "execution_count": null,
   "id": "7885389e",
   "metadata": {},
   "outputs": [],
   "source": []
  }
 ],
 "metadata": {
  "kernelspec": {
   "display_name": "Python 3 (ipykernel)",
   "language": "python",
   "name": "python3"
  },
  "language_info": {
   "codemirror_mode": {
    "name": "ipython",
    "version": 3
   },
   "file_extension": ".py",
   "mimetype": "text/x-python",
   "name": "python",
   "nbconvert_exporter": "python",
   "pygments_lexer": "ipython3",
   "version": "3.9.16"
  }
 },
 "nbformat": 4,
 "nbformat_minor": 5
}
